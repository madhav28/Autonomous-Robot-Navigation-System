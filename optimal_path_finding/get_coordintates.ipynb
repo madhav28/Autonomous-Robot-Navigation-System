{
 "cells": [
  {
   "cell_type": "code",
   "execution_count": null,
   "id": "e1f01def-ebeb-427c-ad3a-3bbc0f82fc77",
   "metadata": {},
   "outputs": [
    {
     "name": "stderr",
     "output_type": "stream",
     "text": [
      "2024-12-11 11:00:50.280 python[1184:19272] +[IMKClient subclass]: chose IMKClient_Modern\n",
      "2024-12-11 11:00:50.281 python[1184:19272] +[IMKInputSession subclass]: chose IMKInputSession_Modern\n"
     ]
    },
    {
     "name": "stdout",
     "output_type": "stream",
     "text": [
      "Coordinates of the clicked point: (321, 307)\n",
      "Coordinates of the clicked point: (564, 746)\n",
      "Coordinates of the clicked point: (1029, 917)\n",
      "Coordinates of the clicked point: (10, 17)\n",
      "Coordinates of the clicked point: (1027, 28)\n",
      "Coordinates of the clicked point: (970, 277)\n",
      "Coordinates of the clicked point: (843, 430)\n",
      "Coordinates of the clicked point: (640, 525)\n",
      "Coordinates of the clicked point: (770, 643)\n"
     ]
    }
   ],
   "source": [
    "import cv2\n",
    "\n",
    "def click_event(event, x, y, flags, param):\n",
    "    if event == cv2.EVENT_LBUTTONDOWN:\n",
    "        print(f\"Coordinates of the clicked point: ({x}, {y})\")\n",
    "\n",
    "image = cv2.imread('birdseye_view_binary.png')\n",
    "\n",
    "cv2.imshow(\"Image\", image)\n",
    "cv2.setMouseCallback(\"Image\", click_event)\n",
    "\n",
    "cv2.waitKey(0)\n",
    "cv2.destroyAllWindows()"
   ]
  },
  {
   "cell_type": "code",
   "execution_count": null,
   "id": "d90dccfa-d77c-4818-b831-0802eb6da1f7",
   "metadata": {},
   "outputs": [],
   "source": []
  }
 ],
 "metadata": {
  "kernelspec": {
   "display_name": "Python 3 (ipykernel)",
   "language": "python",
   "name": "python3"
  },
  "language_info": {
   "codemirror_mode": {
    "name": "ipython",
    "version": 3
   },
   "file_extension": ".py",
   "mimetype": "text/x-python",
   "name": "python",
   "nbconvert_exporter": "python",
   "pygments_lexer": "ipython3",
   "version": "3.12.4"
  }
 },
 "nbformat": 4,
 "nbformat_minor": 5
}

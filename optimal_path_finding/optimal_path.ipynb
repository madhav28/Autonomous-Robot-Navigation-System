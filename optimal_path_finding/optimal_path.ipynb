{
 "cells": [
  {
   "cell_type": "code",
   "execution_count": 1,
   "id": "2bd1898b-bb68-4c86-ae84-28e110e74cb3",
   "metadata": {},
   "outputs": [
    {
     "data": {
      "text/plain": [
       "True"
      ]
     },
     "execution_count": 1,
     "metadata": {},
     "output_type": "execute_result"
    }
   ],
   "source": [
    "import cv2\n",
    "import numpy as np\n",
    "import heapq\n",
    "\n",
    "image = cv2.imread('birdseye_view_binary.png')\n",
    "\n",
    "red_mask = (image[:, :, 2] > 200) & (image[:, :, 1] < 100) & (image[:, :, 0] < 100)\n",
    "\n",
    "binary_map = np.ones_like(red_mask, dtype=int)\n",
    "binary_map[~red_mask] = 0\n",
    "\n",
    "min_distance = 5\n",
    "start = (307, 321)\n",
    "end = (746, 564)\n",
    "# end = (643, 770)\n",
    "\n",
    "def min_distance_to_red(x, y, red_mask):\n",
    "    red_coords = np.argwhere(red_mask)\n",
    "    return np.min(np.sqrt((red_coords[:, 0] - x) ** 2 + (red_coords[:, 1] - y) ** 2))\n",
    "\n",
    "def a_star(start, end, grid, red_mask):\n",
    "    open_list = []\n",
    "    heapq.heappush(open_list, (0 + heuristic(start, end), 0, start))  \n",
    "    came_from = {}\n",
    "    g_cost = {start: 0}\n",
    "    while open_list:\n",
    "        _, current_g, current = heapq.heappop(open_list)\n",
    "        if current == end:\n",
    "            return reconstruct_path(came_from, current)\n",
    "        \n",
    "        for neighbor in get_neighbors(current):\n",
    "            if grid[neighbor] == 1:  \n",
    "                continue\n",
    "            \n",
    "            #if min_distance_to_red(neighbor[0], neighbor[1], red_mask) < min_distance:\n",
    "            #    continue\n",
    "            \n",
    "            tentative_g = current_g + (1.414 if neighbor[0] != current[0] and neighbor[1] != current[1] else 1)\n",
    "            if neighbor not in g_cost or tentative_g < g_cost[neighbor]:\n",
    "                g_cost[neighbor] = tentative_g\n",
    "                f_cost = tentative_g + heuristic(neighbor, end)\n",
    "                heapq.heappush(open_list, (f_cost, tentative_g, neighbor))\n",
    "                came_from[neighbor] = current\n",
    "    return None  \n",
    "\n",
    "def heuristic(a, b):\n",
    "    return np.sqrt((a[0] - b[0]) ** 2 + (a[1] - b[1]) ** 2)\n",
    "\n",
    "def get_neighbors(current):\n",
    "    x, y = current\n",
    "    neighbors = [(x + 1, y), (x - 1, y), (x, y + 1), (x, y - 1), \n",
    "                 (x + 1, y + 1), (x + 1, y - 1), (x - 1, y + 1), (x - 1, y - 1)]\n",
    "    return [n for n in neighbors if 0 <= n[0] < image.shape[0] and 0 <= n[1] < image.shape[1]]\n",
    "\n",
    "def reconstruct_path(came_from, current):\n",
    "    path = []\n",
    "    while current in came_from:\n",
    "        path.append(current)\n",
    "        current = came_from[current]\n",
    "    path.append(current)\n",
    "    return path[::-1]  \n",
    "\n",
    "path = a_star(start, end, binary_map, red_mask)\n",
    "\n",
    "if path:\n",
    "    for (x, y) in path:\n",
    "        image[x, y] = [0, 255, 0]  \n",
    "\n",
    "cv2.imwrite('optimal_path_remote_to_bed.png', image)\n",
    "# cv2.imwrite('optimal_path_remote_to_sink.png', image)"
   ]
  }
 ],
 "metadata": {
  "kernelspec": {
   "display_name": "Python 3 (ipykernel)",
   "language": "python",
   "name": "python3"
  },
  "language_info": {
   "codemirror_mode": {
    "name": "ipython",
    "version": 3
   },
   "file_extension": ".py",
   "mimetype": "text/x-python",
   "name": "python",
   "nbconvert_exporter": "python",
   "pygments_lexer": "ipython3",
   "version": "3.12.4"
  }
 },
 "nbformat": 4,
 "nbformat_minor": 5
}
